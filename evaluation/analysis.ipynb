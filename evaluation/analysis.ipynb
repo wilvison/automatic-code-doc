import pandas as pd
import matplotlib.pyplot as plt
from nltk.translate.bleu_score import sentence_bleu
from rouge import Rouge

# Carregar dados
df = pd.read_json('code_samples.jsonl', lines=True)
results = pd.read_csv('results.csv')

# Calcular métricas
def calculate_metrics(row):
    rouge = Rouge()
    ref = row['gold_doc'].split()
    gen = row['generated_doc'].split()
    return {
        'bleu': sentence_bleu([ref], gen),
        'rouge_1_f': rouge.get_scores(gen, ref)[0]['rouge-1']['f'],
        'rouge_2_f': rouge.get_scores(gen, ref)[0]['rouge-2']['f']
    }

metrics = results.apply(calculate_metrics, axis=1, result_type='expand')
results = pd.concat([results, metrics], axis=1)

# Visualizar resultados
plt.figure(figsize=(10,6))
results.groupby('model')['bleu'].mean().plot(kind='bar')
plt.title('Comparação de BLEU por Modelo')
plt.ylabel('Score')
plt.savefig('../paper/figures/results.png')  # Salva figura para o paper
